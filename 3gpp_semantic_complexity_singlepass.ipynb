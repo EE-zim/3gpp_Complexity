{
 "cells": [
  {
   "cell_type": "markdown",
   "id": "22e5caad",
   "metadata": {},
   "source": [
    "# 3GPP Release Semantic‑Complexity (Single‑Pass Encode, MPS Ready)\n",
    "\n",
    "* Apple Silicon / CUDA / CPU auto‑device  \n",
    "* Block‑wise sentence splitting for huge files  \n",
    "* **Single global `model.encode`** call for maximum throughput  \n",
    "* Outputs `release_metrics.csv` & `delta_metrics.csv`"
   ]
  },
  {
   "cell_type": "code",
   "execution_count": 1,
   "id": "62d876cc",
   "metadata": {},
   "outputs": [
    {
     "name": "stderr",
     "output_type": "stream",
     "text": [
      "/Users/ziming/Documents/WorkSpace/3gpp_Complexity/3gpp_compexity/lib/python3.11/site-packages/tqdm/auto.py:21: TqdmWarning: IProgress not found. Please update jupyter and ipywidgets. See https://ipywidgets.readthedocs.io/en/stable/user_install.html\n",
      "  from .autonotebook import tqdm as notebook_tqdm\n"
     ]
    }
   ],
   "source": [
    "# !pip install sentence-transformers pdfminer.six spacy tqdm scikit-learn pandas numpy scipy\n",
    "import os, re, sys\n",
    "from pathlib import Path; from glob import glob\n",
    "from typing import List, Dict\n",
    "import numpy as np, pandas as pd, torch, spacy\n",
    "from tqdm.auto import tqdm\n",
    "from sentence_transformers import SentenceTransformer, util\n",
    "from sklearn.cluster import KMeans\n",
    "from scipy.stats import entropy"
   ]
  },
  {
   "cell_type": "code",
   "execution_count": 6,
   "id": "32c7a4d9",
   "metadata": {},
   "outputs": [
    {
     "name": "stdout",
     "output_type": "stream",
     "text": [
      "Device: mps\n"
     ]
    }
   ],
   "source": [
    "# Parameters\n",
    "spec_root = Path('~/Documents/WorkSpace/TSpec-LLM/3GPP-clean-test').expanduser()  # <-- EDIT ME\n",
    "model_name = 'sentence-transformers/all-MiniLM-L6-v2'\n",
    "block_size  = 200_000      # chars per spaCy chunk\n",
    "batch_size  = 128\n",
    "sample_redundancy = 1000\n",
    "sample_novelty    = 2000\n",
    "\n",
    "device = 'mps' if torch.backends.mps.is_available() else ('cuda' if torch.cuda.is_available() else 'cpu')\n",
    "print('Device:', device)"
   ]
  },
  {
   "cell_type": "code",
   "execution_count": 7,
   "id": "331f9cc8",
   "metadata": {},
   "outputs": [],
   "source": [
    "def extract_text(p: Path) -> str:\n",
    "    suf = p.suffix.lower()\n",
    "    if suf in ('.txt', '.md'):\n",
    "        return p.read_text(encoding='utf-8', errors='ignore')\n",
    "    if suf == '.pdf':\n",
    "        import pdfminer.high_level as pdfm\n",
    "        return pdfm.extract_text(p)\n",
    "    raise ValueError(f'Unsupported {p}')\n",
    "    \n",
    "def make_nlp(max_len=5_000_000):\n",
    "    nlp = spacy.blank('en'); nlp.max_length = max_len; nlp.add_pipe('sentencizer'); return nlp\n",
    "\n",
    "def block_split(nlp, text: str, blk_sz=200_000):\n",
    "    s=[]\n",
    "    for i in range(0,len(text),blk_sz):\n",
    "        blk=text[i:i+blk_sz]\n",
    "        if len(blk)>=nlp.max_length: nlp.max_length=len(blk)+1\n",
    "        s.extend(t.text.strip() for t in nlp(blk).sents if t.text.strip())\n",
    "    return s\n",
    "\n",
    "def semantic_spread(X): return float(np.trace(np.cov(X,rowvar=False)))\n",
    "def redundancy_index(X, k=1000):\n",
    "    if len(X)>k: X=X[np.random.choice(len(X),k,False)]\n",
    "    sims=util.cos_sim(X,X).cpu().numpy(); return 1.0-float(sims[np.triu_indices_from(sims,1)].mean())\n",
    "def cluster_entropy(X):\n",
    "    labels=KMeans(n_clusters=int(np.sqrt(len(X))),n_init='auto',random_state=0).fit_predict(X)\n",
    "    p=np.bincount(labels)/len(labels); return float(entropy(p,base=2))\n",
    "def change_mag(a,b): return 1.0-float(util.cos_sim(a,b))\n",
    "def novelty_density(Xp,Xn,k=2000):\n",
    "    if len(Xn)>k: Xn=Xn[np.random.choice(len(Xn),k,False)]\n",
    "    sims=util.cos_sim(Xn,Xp).cpu().numpy(); return float((1.0-sims.max(1)).mean())"
   ]
  },
  {
   "cell_type": "code",
   "execution_count": 8,
   "id": "9bc969c3",
   "metadata": {},
   "outputs": [
    {
     "name": "stdout",
     "output_type": "stream",
     "text": [
      "Releases: Rel-8, Rel-9\n",
      "Rel-8 507 files\n",
      "Rel-9 494 files\n"
     ]
    },
    {
     "name": "stderr",
     "output_type": "stream",
     "text": [
      "                                                                "
     ]
    },
    {
     "name": "stdout",
     "output_type": "stream",
     "text": [
      "Total sentences: 526541\n"
     ]
    },
    {
     "name": "stderr",
     "output_type": "stream",
     "text": [
      "\r"
     ]
    }
   ],
   "source": [
    "# Discover releases & files\n",
    "releases=sorted([d.name for d in spec_root.iterdir() if d.is_dir() and d.name.startswith('Rel-')],\n",
    "                key=lambda x:int(re.findall(r'\\d+',x)[0]))\n",
    "print('Releases:', ', '.join(releases))\n",
    "rel_files={r:[Path(p) for p in glob(str((spec_root/r)/'**/*'),recursive=True) if p.lower().endswith(('.txt','.md','.pdf'))] for r in releases}\n",
    "for r,fl in rel_files.items(): print(r,len(fl),'files')\n",
    "\n",
    "# Gather all sentences\n",
    "nlp=make_nlp()\n",
    "all_sents=[]; rel_slice={}\n",
    "for r in releases:\n",
    "    start=len(all_sents)\n",
    "    for f in tqdm(rel_files[r],desc=f'{r} files',unit='file',leave=False):\n",
    "        try: txt=extract_text(f)\n",
    "        except Exception as e: print('[warn]',f,e); continue\n",
    "        all_sents.extend(block_split(nlp,txt,block_size))\n",
    "    rel_slice[r]=slice(start,len(all_sents))\n",
    "print('Total sentences:',len(all_sents))"
   ]
  },
  {
   "cell_type": "code",
   "execution_count": 9,
   "id": "6d67a81b",
   "metadata": {},
   "outputs": [
    {
     "name": "stderr",
     "output_type": "stream",
     "text": [
      "Batches:   1%|▏         | 61/4114 [00:18<20:38,  3.27it/s] \n"
     ]
    },
    {
     "ename": "KeyboardInterrupt",
     "evalue": "",
     "output_type": "error",
     "traceback": [
      "\u001b[31m---------------------------------------------------------------------------\u001b[39m",
      "\u001b[31mKeyboardInterrupt\u001b[39m                         Traceback (most recent call last)",
      "\u001b[36mCell\u001b[39m\u001b[36m \u001b[39m\u001b[32mIn[9]\u001b[39m\u001b[32m, line 3\u001b[39m\n\u001b[32m      1\u001b[39m \u001b[38;5;66;03m# Encode once\u001b[39;00m\n\u001b[32m      2\u001b[39m model=SentenceTransformer(model_name,device=device)\n\u001b[32m----> \u001b[39m\u001b[32m3\u001b[39m emb=\u001b[43mmodel\u001b[49m\u001b[43m.\u001b[49m\u001b[43mencode\u001b[49m\u001b[43m(\u001b[49m\u001b[43mall_sents\u001b[49m\u001b[43m,\u001b[49m\u001b[43mbatch_size\u001b[49m\u001b[43m=\u001b[49m\u001b[43mbatch_size\u001b[49m\u001b[43m,\u001b[49m\u001b[43mdevice\u001b[49m\u001b[43m=\u001b[49m\u001b[43mdevice\u001b[49m\u001b[43m,\u001b[49m\u001b[43mnormalize_embeddings\u001b[49m\u001b[43m=\u001b[49m\u001b[38;5;28;43;01mTrue\u001b[39;49;00m\u001b[43m,\u001b[49m\u001b[43mshow_progress_bar\u001b[49m\u001b[43m=\u001b[49m\u001b[38;5;28;43;01mTrue\u001b[39;49;00m\u001b[43m)\u001b[49m\n\u001b[32m      4\u001b[39m X_all=np.asarray(emb)\n",
      "\u001b[36mFile \u001b[39m\u001b[32m~/Documents/WorkSpace/3gpp_Complexity/3gpp_compexity/lib/python3.11/site-packages/sentence_transformers/SentenceTransformer.py:720\u001b[39m, in \u001b[36mSentenceTransformer.encode\u001b[39m\u001b[34m(self, sentences, prompt_name, prompt, batch_size, show_progress_bar, output_value, precision, convert_to_numpy, convert_to_tensor, device, normalize_embeddings, **kwargs)\u001b[39m\n\u001b[32m    718\u001b[39m             \u001b[38;5;66;03m# fixes for #522 and #487 to avoid oom problems on gpu with large datasets\u001b[39;00m\n\u001b[32m    719\u001b[39m             \u001b[38;5;28;01mif\u001b[39;00m convert_to_numpy:\n\u001b[32m--> \u001b[39m\u001b[32m720\u001b[39m                 embeddings = \u001b[43membeddings\u001b[49m\u001b[43m.\u001b[49m\u001b[43mcpu\u001b[49m\u001b[43m(\u001b[49m\u001b[43m)\u001b[49m\n\u001b[32m    722\u001b[39m         all_embeddings.extend(embeddings)\n\u001b[32m    724\u001b[39m all_embeddings = [all_embeddings[idx] \u001b[38;5;28;01mfor\u001b[39;00m idx \u001b[38;5;129;01min\u001b[39;00m np.argsort(length_sorted_idx)]\n",
      "\u001b[31mKeyboardInterrupt\u001b[39m: "
     ]
    }
   ],
   "source": [
    "# Encode once\n",
    "model=SentenceTransformer(model_name,device=device)\n",
    "emb=model.encode(all_sents,batch_size=batch_size,device=device,normalize_embeddings=True,show_progress_bar=True)\n",
    "X_all=np.asarray(emb)"
   ]
  },
  {
   "cell_type": "code",
   "execution_count": null,
   "id": "f1cc31aa",
   "metadata": {},
   "outputs": [],
   "source": [
    "# Metrics per release\n",
    "metrics=[]; mus={}; mats={}\n",
    "for r in releases:\n",
    "    s=rel_slice[r]; X=X_all[s]; \n",
    "    if X.size==0: print('[skip]',r); continue\n",
    "    mus[r]=X.mean(0); mats[r]=X\n",
    "    metrics.append({'release':r,'sentences':len(X),\n",
    "                    'semantic_spread':semantic_spread(X),\n",
    "                    'redundancy_index':redundancy_index(X,sample_redundancy),\n",
    "                    'cluster_entropy':cluster_entropy(X)})\n",
    "df_rel=pd.DataFrame(metrics); df_rel.to_csv('release_metrics.csv',index=False); df_rel"
   ]
  },
  {
   "cell_type": "code",
   "execution_count": null,
   "id": "58697a43",
   "metadata": {},
   "outputs": [],
   "source": [
    "# Delta metrics\n",
    "delta=[]\n",
    "for a,b in zip(releases[:-1],releases[1:]):\n",
    "    if a in mus and b in mus:\n",
    "        delta.append({'from':a,'to':b,\n",
    "                      'change_magnitude':change_mag(mus[a],mus[b]),\n",
    "                      'novelty_density':novelty_density(mats[a],mats[b],sample_novelty)})\n",
    "df_delta=pd.DataFrame(delta); df_delta.to_csv('delta_metrics.csv',index=False); df_delta"
   ]
  }
 ],
 "metadata": {
  "kernelspec": {
   "display_name": "3gpp_compexity",
   "language": "python",
   "name": "python3"
  },
  "language_info": {
   "codemirror_mode": {
    "name": "ipython",
    "version": 3
   },
   "file_extension": ".py",
   "mimetype": "text/x-python",
   "name": "python",
   "nbconvert_exporter": "python",
   "pygments_lexer": "ipython3",
   "version": "3.11.12"
  }
 },
 "nbformat": 4,
 "nbformat_minor": 5
}
