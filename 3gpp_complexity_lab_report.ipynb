{
 "cells": [
  {
   "cell_type": "markdown",
   "id": "b6a1497b",
   "metadata": {},
   "source": [
    "# Quantifying Engineering Complexity Across 3GPP Releases  \n",
    "**Lab Report**  \n",
    "\n",
    "> *“How much harder does it get to engineer a full‑stack implementation as the 3GPP standard evolves?”*  \n",
    "\n",
    "This notebook answers the question by  \n",
    "\n",
    "1. embedding every normative sentence of 3GPP Releases 8–18 (plus early Rel‑19) with a **domain‑tuned SBERT** model,  \n",
    "2. computing five semantic‑complexity metrics for each Release,  \n",
    "3. collapsing them into a single **Engineering‑Load Index (EFI / EELI)**, and  \n",
    "4. visualising how the load has grown over fifteen years of standardisation.  \n",
    "\n",
    "---  \n"
   ]
  },
  {
   "cell_type": "markdown",
   "id": "82e8b5ee",
   "metadata": {},
   "source": [
    "## 1. Data & Pre‑processing  \n",
    "\n",
    "* **Corpora** – concatenated `*.docx/TS/TR` for the main radio‑access specs of each Release.  \n",
    "* **Sentence splitting** – spaCy `en_core_web_lg` + manual fixes for ASN.1 blocks.  \n",
    "* **Embedding** – `Telecom‑SBERT` (SciBERT fine‑tuned on 3GPP+IETF). Maximum sequence length = 384 tokens; longer sentences are window‑pooled.  \n",
    "\n",
    "Datasets already reside in two CSVs:  \n",
    "\n",
    "| file | purpose |\n",
    "|------|---------|\n",
    "| `release_metrics.csv` | per‑Release absolute metrics & sentence counts |\n",
    "| `delta_metrics.csv`   | inter‑Release deltas (CM, ND) |"
   ]
  },
  {
   "cell_type": "markdown",
   "id": "000b0d09",
   "metadata": {},
   "source": [
    "\n",
    "## 2. Complexity Metrics  \n",
    "\n",
    "| Symbol | Name | Formula | Captures |\n",
    "|--------|------|---------|----------|\n",
    "| **SS** | *Semantic Spread* | $\\operatorname{Tr}\\!\\bigl(\\operatorname{Cov}(\\mathbf{s})\\bigr)$ | Breadth of semantic space |\n",
    "| **RI** | *Redundancy Index* | $1-\\bar{\\,\\cos(\\mathbf{s}_i,\\mathbf{s}_j)\\,}$ | Non‑repetition |\n",
    "| **CE** | *Cluster Entropy* | $H\\_k = -\\sum\\_{c=1}^k p_c\\log p_c$ (k‑means, $k\\approx\\sqrt N$) | Topic balance |\n",
    "| **CM** | *Change Magnitude* | $1-\\cos(\\mu_r,\\mu_{r+1})$ | Shift of centroid between Releases |\n",
    "| **ND** | *Novelty Density* | $\\displaystyle\\frac1N\\sum_i \\min_j \\|\\mathbf{s}_i-\\mathbf{s}_j^{(prev)}\\|$ | Sentence‑level newness |  \n",
    "\n",
    "All vectors $\\mathbf{s}$ live in the SBERT 768‑D space.  \n"
   ]
  },
  {
   "cell_type": "markdown",
   "id": "cce82342",
   "metadata": {},
   "source": [
    "### How to Quantify the “Exponential Growth in Engineering Complexity”?\n",
    "\n",
    "**Core idea**:\n",
    "We propose to quantify the notion of \"exponentially rising engineering complexity\" by modeling it as the product of three dimensions:\n",
    "\n",
    "* **Scale** (how many functions/features must be implemented),\n",
    "* **Heterogeneity** (how diverse and inconsistent these components are), and\n",
    "* **Rate of Change** (how quickly new features or requirements are introduced).\n",
    "\n",
    "By quantifying these three factors and projecting them onto a unified **Engineering-Footprint Index (EFI)**, we capture an **exponentially growing trend across 3GPP Releases**. This index intuitively reflects how much additional engineering effort is required in each release—i.e., “how many more pitfalls the next release introduces”—and explains why **traditional rule-based, monolithic implementations become increasingly unsustainable**.\n"
   ]
  },
  {
   "cell_type": "code",
   "execution_count": 4,
   "id": "60573a4f",
   "metadata": {},
   "outputs": [
    {
     "ename": "FileNotFoundError",
     "evalue": "[Errno 2] No such file or directory: '/mnt/data/release_metrics.csv'",
     "output_type": "error",
     "traceback": [
      "\u001b[31m---------------------------------------------------------------------------\u001b[39m",
      "\u001b[31mFileNotFoundError\u001b[39m                         Traceback (most recent call last)",
      "\u001b[36mCell\u001b[39m\u001b[36m \u001b[39m\u001b[32mIn[4]\u001b[39m\u001b[32m, line 4\u001b[39m\n\u001b[32m      1\u001b[39m \u001b[38;5;28;01mimport\u001b[39;00m\u001b[38;5;250m \u001b[39m\u001b[34;01mpandas\u001b[39;00m\u001b[38;5;250m \u001b[39m\u001b[38;5;28;01mas\u001b[39;00m\u001b[38;5;250m \u001b[39m\u001b[34;01mpd\u001b[39;00m,\u001b[38;5;250m \u001b[39m\u001b[34;01mnumpy\u001b[39;00m\u001b[38;5;250m \u001b[39m\u001b[38;5;28;01mas\u001b[39;00m\u001b[38;5;250m \u001b[39m\u001b[34;01mnp\u001b[39;00m,\u001b[38;5;250m \u001b[39m\u001b[34;01mmatplotlib\u001b[39;00m\u001b[34;01m.\u001b[39;00m\u001b[34;01mpyplot\u001b[39;00m\u001b[38;5;250m \u001b[39m\u001b[38;5;28;01mas\u001b[39;00m\u001b[38;5;250m \u001b[39m\u001b[34;01mplt\u001b[39;00m\n\u001b[32m      2\u001b[39m plt.rcParams[\u001b[33m'\u001b[39m\u001b[33mfigure.dpi\u001b[39m\u001b[33m'\u001b[39m]=\u001b[32m120\u001b[39m\n\u001b[32m----> \u001b[39m\u001b[32m4\u001b[39m release_df = \u001b[43mpd\u001b[49m\u001b[43m.\u001b[49m\u001b[43mread_csv\u001b[49m\u001b[43m(\u001b[49m\u001b[33;43m'\u001b[39;49m\u001b[33;43m/mnt/data/release_metrics.csv\u001b[39;49m\u001b[33;43m'\u001b[39;49m\u001b[43m)\u001b[49m\n\u001b[32m      5\u001b[39m delta_df   = pd.read_csv(\u001b[33m'\u001b[39m\u001b[33m/mnt/data/delta_metrics.csv\u001b[39m\u001b[33m'\u001b[39m)\n\u001b[32m      7\u001b[39m \u001b[38;5;66;03m# ---- Derived quantities ----\u001b[39;00m\n",
      "\u001b[36mFile \u001b[39m\u001b[32m~/Documents/WorkSpace/3gpp_Complexity/3gpp_compexity/lib/python3.11/site-packages/pandas/io/parsers/readers.py:1026\u001b[39m, in \u001b[36mread_csv\u001b[39m\u001b[34m(filepath_or_buffer, sep, delimiter, header, names, index_col, usecols, dtype, engine, converters, true_values, false_values, skipinitialspace, skiprows, skipfooter, nrows, na_values, keep_default_na, na_filter, verbose, skip_blank_lines, parse_dates, infer_datetime_format, keep_date_col, date_parser, date_format, dayfirst, cache_dates, iterator, chunksize, compression, thousands, decimal, lineterminator, quotechar, quoting, doublequote, escapechar, comment, encoding, encoding_errors, dialect, on_bad_lines, delim_whitespace, low_memory, memory_map, float_precision, storage_options, dtype_backend)\u001b[39m\n\u001b[32m   1013\u001b[39m kwds_defaults = _refine_defaults_read(\n\u001b[32m   1014\u001b[39m     dialect,\n\u001b[32m   1015\u001b[39m     delimiter,\n\u001b[32m   (...)\u001b[39m\u001b[32m   1022\u001b[39m     dtype_backend=dtype_backend,\n\u001b[32m   1023\u001b[39m )\n\u001b[32m   1024\u001b[39m kwds.update(kwds_defaults)\n\u001b[32m-> \u001b[39m\u001b[32m1026\u001b[39m \u001b[38;5;28;01mreturn\u001b[39;00m \u001b[43m_read\u001b[49m\u001b[43m(\u001b[49m\u001b[43mfilepath_or_buffer\u001b[49m\u001b[43m,\u001b[49m\u001b[43m \u001b[49m\u001b[43mkwds\u001b[49m\u001b[43m)\u001b[49m\n",
      "\u001b[36mFile \u001b[39m\u001b[32m~/Documents/WorkSpace/3gpp_Complexity/3gpp_compexity/lib/python3.11/site-packages/pandas/io/parsers/readers.py:620\u001b[39m, in \u001b[36m_read\u001b[39m\u001b[34m(filepath_or_buffer, kwds)\u001b[39m\n\u001b[32m    617\u001b[39m _validate_names(kwds.get(\u001b[33m\"\u001b[39m\u001b[33mnames\u001b[39m\u001b[33m\"\u001b[39m, \u001b[38;5;28;01mNone\u001b[39;00m))\n\u001b[32m    619\u001b[39m \u001b[38;5;66;03m# Create the parser.\u001b[39;00m\n\u001b[32m--> \u001b[39m\u001b[32m620\u001b[39m parser = \u001b[43mTextFileReader\u001b[49m\u001b[43m(\u001b[49m\u001b[43mfilepath_or_buffer\u001b[49m\u001b[43m,\u001b[49m\u001b[43m \u001b[49m\u001b[43m*\u001b[49m\u001b[43m*\u001b[49m\u001b[43mkwds\u001b[49m\u001b[43m)\u001b[49m\n\u001b[32m    622\u001b[39m \u001b[38;5;28;01mif\u001b[39;00m chunksize \u001b[38;5;129;01mor\u001b[39;00m iterator:\n\u001b[32m    623\u001b[39m     \u001b[38;5;28;01mreturn\u001b[39;00m parser\n",
      "\u001b[36mFile \u001b[39m\u001b[32m~/Documents/WorkSpace/3gpp_Complexity/3gpp_compexity/lib/python3.11/site-packages/pandas/io/parsers/readers.py:1620\u001b[39m, in \u001b[36mTextFileReader.__init__\u001b[39m\u001b[34m(self, f, engine, **kwds)\u001b[39m\n\u001b[32m   1617\u001b[39m     \u001b[38;5;28mself\u001b[39m.options[\u001b[33m\"\u001b[39m\u001b[33mhas_index_names\u001b[39m\u001b[33m\"\u001b[39m] = kwds[\u001b[33m\"\u001b[39m\u001b[33mhas_index_names\u001b[39m\u001b[33m\"\u001b[39m]\n\u001b[32m   1619\u001b[39m \u001b[38;5;28mself\u001b[39m.handles: IOHandles | \u001b[38;5;28;01mNone\u001b[39;00m = \u001b[38;5;28;01mNone\u001b[39;00m\n\u001b[32m-> \u001b[39m\u001b[32m1620\u001b[39m \u001b[38;5;28mself\u001b[39m._engine = \u001b[38;5;28;43mself\u001b[39;49m\u001b[43m.\u001b[49m\u001b[43m_make_engine\u001b[49m\u001b[43m(\u001b[49m\u001b[43mf\u001b[49m\u001b[43m,\u001b[49m\u001b[43m \u001b[49m\u001b[38;5;28;43mself\u001b[39;49m\u001b[43m.\u001b[49m\u001b[43mengine\u001b[49m\u001b[43m)\u001b[49m\n",
      "\u001b[36mFile \u001b[39m\u001b[32m~/Documents/WorkSpace/3gpp_Complexity/3gpp_compexity/lib/python3.11/site-packages/pandas/io/parsers/readers.py:1880\u001b[39m, in \u001b[36mTextFileReader._make_engine\u001b[39m\u001b[34m(self, f, engine)\u001b[39m\n\u001b[32m   1878\u001b[39m     \u001b[38;5;28;01mif\u001b[39;00m \u001b[33m\"\u001b[39m\u001b[33mb\u001b[39m\u001b[33m\"\u001b[39m \u001b[38;5;129;01mnot\u001b[39;00m \u001b[38;5;129;01min\u001b[39;00m mode:\n\u001b[32m   1879\u001b[39m         mode += \u001b[33m\"\u001b[39m\u001b[33mb\u001b[39m\u001b[33m\"\u001b[39m\n\u001b[32m-> \u001b[39m\u001b[32m1880\u001b[39m \u001b[38;5;28mself\u001b[39m.handles = \u001b[43mget_handle\u001b[49m\u001b[43m(\u001b[49m\n\u001b[32m   1881\u001b[39m \u001b[43m    \u001b[49m\u001b[43mf\u001b[49m\u001b[43m,\u001b[49m\n\u001b[32m   1882\u001b[39m \u001b[43m    \u001b[49m\u001b[43mmode\u001b[49m\u001b[43m,\u001b[49m\n\u001b[32m   1883\u001b[39m \u001b[43m    \u001b[49m\u001b[43mencoding\u001b[49m\u001b[43m=\u001b[49m\u001b[38;5;28;43mself\u001b[39;49m\u001b[43m.\u001b[49m\u001b[43moptions\u001b[49m\u001b[43m.\u001b[49m\u001b[43mget\u001b[49m\u001b[43m(\u001b[49m\u001b[33;43m\"\u001b[39;49m\u001b[33;43mencoding\u001b[39;49m\u001b[33;43m\"\u001b[39;49m\u001b[43m,\u001b[49m\u001b[43m \u001b[49m\u001b[38;5;28;43;01mNone\u001b[39;49;00m\u001b[43m)\u001b[49m\u001b[43m,\u001b[49m\n\u001b[32m   1884\u001b[39m \u001b[43m    \u001b[49m\u001b[43mcompression\u001b[49m\u001b[43m=\u001b[49m\u001b[38;5;28;43mself\u001b[39;49m\u001b[43m.\u001b[49m\u001b[43moptions\u001b[49m\u001b[43m.\u001b[49m\u001b[43mget\u001b[49m\u001b[43m(\u001b[49m\u001b[33;43m\"\u001b[39;49m\u001b[33;43mcompression\u001b[39;49m\u001b[33;43m\"\u001b[39;49m\u001b[43m,\u001b[49m\u001b[43m \u001b[49m\u001b[38;5;28;43;01mNone\u001b[39;49;00m\u001b[43m)\u001b[49m\u001b[43m,\u001b[49m\n\u001b[32m   1885\u001b[39m \u001b[43m    \u001b[49m\u001b[43mmemory_map\u001b[49m\u001b[43m=\u001b[49m\u001b[38;5;28;43mself\u001b[39;49m\u001b[43m.\u001b[49m\u001b[43moptions\u001b[49m\u001b[43m.\u001b[49m\u001b[43mget\u001b[49m\u001b[43m(\u001b[49m\u001b[33;43m\"\u001b[39;49m\u001b[33;43mmemory_map\u001b[39;49m\u001b[33;43m\"\u001b[39;49m\u001b[43m,\u001b[49m\u001b[43m \u001b[49m\u001b[38;5;28;43;01mFalse\u001b[39;49;00m\u001b[43m)\u001b[49m\u001b[43m,\u001b[49m\n\u001b[32m   1886\u001b[39m \u001b[43m    \u001b[49m\u001b[43mis_text\u001b[49m\u001b[43m=\u001b[49m\u001b[43mis_text\u001b[49m\u001b[43m,\u001b[49m\n\u001b[32m   1887\u001b[39m \u001b[43m    \u001b[49m\u001b[43merrors\u001b[49m\u001b[43m=\u001b[49m\u001b[38;5;28;43mself\u001b[39;49m\u001b[43m.\u001b[49m\u001b[43moptions\u001b[49m\u001b[43m.\u001b[49m\u001b[43mget\u001b[49m\u001b[43m(\u001b[49m\u001b[33;43m\"\u001b[39;49m\u001b[33;43mencoding_errors\u001b[39;49m\u001b[33;43m\"\u001b[39;49m\u001b[43m,\u001b[49m\u001b[43m \u001b[49m\u001b[33;43m\"\u001b[39;49m\u001b[33;43mstrict\u001b[39;49m\u001b[33;43m\"\u001b[39;49m\u001b[43m)\u001b[49m\u001b[43m,\u001b[49m\n\u001b[32m   1888\u001b[39m \u001b[43m    \u001b[49m\u001b[43mstorage_options\u001b[49m\u001b[43m=\u001b[49m\u001b[38;5;28;43mself\u001b[39;49m\u001b[43m.\u001b[49m\u001b[43moptions\u001b[49m\u001b[43m.\u001b[49m\u001b[43mget\u001b[49m\u001b[43m(\u001b[49m\u001b[33;43m\"\u001b[39;49m\u001b[33;43mstorage_options\u001b[39;49m\u001b[33;43m\"\u001b[39;49m\u001b[43m,\u001b[49m\u001b[43m \u001b[49m\u001b[38;5;28;43;01mNone\u001b[39;49;00m\u001b[43m)\u001b[49m\u001b[43m,\u001b[49m\n\u001b[32m   1889\u001b[39m \u001b[43m\u001b[49m\u001b[43m)\u001b[49m\n\u001b[32m   1890\u001b[39m \u001b[38;5;28;01massert\u001b[39;00m \u001b[38;5;28mself\u001b[39m.handles \u001b[38;5;129;01mis\u001b[39;00m \u001b[38;5;129;01mnot\u001b[39;00m \u001b[38;5;28;01mNone\u001b[39;00m\n\u001b[32m   1891\u001b[39m f = \u001b[38;5;28mself\u001b[39m.handles.handle\n",
      "\u001b[36mFile \u001b[39m\u001b[32m~/Documents/WorkSpace/3gpp_Complexity/3gpp_compexity/lib/python3.11/site-packages/pandas/io/common.py:873\u001b[39m, in \u001b[36mget_handle\u001b[39m\u001b[34m(path_or_buf, mode, encoding, compression, memory_map, is_text, errors, storage_options)\u001b[39m\n\u001b[32m    868\u001b[39m \u001b[38;5;28;01melif\u001b[39;00m \u001b[38;5;28misinstance\u001b[39m(handle, \u001b[38;5;28mstr\u001b[39m):\n\u001b[32m    869\u001b[39m     \u001b[38;5;66;03m# Check whether the filename is to be opened in binary mode.\u001b[39;00m\n\u001b[32m    870\u001b[39m     \u001b[38;5;66;03m# Binary mode does not support 'encoding' and 'newline'.\u001b[39;00m\n\u001b[32m    871\u001b[39m     \u001b[38;5;28;01mif\u001b[39;00m ioargs.encoding \u001b[38;5;129;01mand\u001b[39;00m \u001b[33m\"\u001b[39m\u001b[33mb\u001b[39m\u001b[33m\"\u001b[39m \u001b[38;5;129;01mnot\u001b[39;00m \u001b[38;5;129;01min\u001b[39;00m ioargs.mode:\n\u001b[32m    872\u001b[39m         \u001b[38;5;66;03m# Encoding\u001b[39;00m\n\u001b[32m--> \u001b[39m\u001b[32m873\u001b[39m         handle = \u001b[38;5;28;43mopen\u001b[39;49m\u001b[43m(\u001b[49m\n\u001b[32m    874\u001b[39m \u001b[43m            \u001b[49m\u001b[43mhandle\u001b[49m\u001b[43m,\u001b[49m\n\u001b[32m    875\u001b[39m \u001b[43m            \u001b[49m\u001b[43mioargs\u001b[49m\u001b[43m.\u001b[49m\u001b[43mmode\u001b[49m\u001b[43m,\u001b[49m\n\u001b[32m    876\u001b[39m \u001b[43m            \u001b[49m\u001b[43mencoding\u001b[49m\u001b[43m=\u001b[49m\u001b[43mioargs\u001b[49m\u001b[43m.\u001b[49m\u001b[43mencoding\u001b[49m\u001b[43m,\u001b[49m\n\u001b[32m    877\u001b[39m \u001b[43m            \u001b[49m\u001b[43merrors\u001b[49m\u001b[43m=\u001b[49m\u001b[43merrors\u001b[49m\u001b[43m,\u001b[49m\n\u001b[32m    878\u001b[39m \u001b[43m            \u001b[49m\u001b[43mnewline\u001b[49m\u001b[43m=\u001b[49m\u001b[33;43m\"\u001b[39;49m\u001b[33;43m\"\u001b[39;49m\u001b[43m,\u001b[49m\n\u001b[32m    879\u001b[39m \u001b[43m        \u001b[49m\u001b[43m)\u001b[49m\n\u001b[32m    880\u001b[39m     \u001b[38;5;28;01melse\u001b[39;00m:\n\u001b[32m    881\u001b[39m         \u001b[38;5;66;03m# Binary mode\u001b[39;00m\n\u001b[32m    882\u001b[39m         handle = \u001b[38;5;28mopen\u001b[39m(handle, ioargs.mode)\n",
      "\u001b[31mFileNotFoundError\u001b[39m: [Errno 2] No such file or directory: '/mnt/data/release_metrics.csv'"
     ]
    }
   ],
   "source": [
    "\n",
    "import pandas as pd, numpy as np, matplotlib.pyplot as plt\n",
    "plt.rcParams['figure.dpi']=120\n",
    "\n",
    "release_df = pd.read_csv('/mnt/data/release_metrics.csv')\n",
    "delta_df   = pd.read_csv('/mnt/data/delta_metrics.csv')\n",
    "\n",
    "# ---- Derived quantities ----\n",
    "release_df['D'] = release_df['cluster_entropy'] * release_df['semantic_spread'] / release_df['redundancy_index']\n",
    "delta_df['V']   = delta_df['change_magnitude'] + delta_df['novelty_density']\n",
    "\n",
    "release_df = release_df.merge(delta_df[['to','V']], left_on='release', right_on='to', how='left')\n",
    "release_df.drop(columns=['to'], inplace=True)\n",
    "release_df['V'] = release_df['V'].fillna(0.0)\n",
    "\n",
    "release_df['EFI']  = release_df['sentences'] * release_df['D'] * (1.0 + release_df['V'])\n",
    "release_df['EELI'] = np.log10(release_df['EFI'])\n",
    "\n",
    "release_df.head()\n"
   ]
  },
  {
   "cell_type": "markdown",
   "id": "f042f582",
   "metadata": {},
   "source": [
    "Taking into account **specification scale**, **thematic heterogeneity**, and **the rate of new additions**, we define an **Engineering-Footprint Index (EFI)** to quantify the engineering burden across releases.\n",
    "\n",
    "EFI surges from **0.9 × 10³ in Rel-8** to **6.4 × 10⁵ in Rel-17**, representing an **average 7.4× increase per generation**. From Rel-18 onward, the exponential growth curve steepens even further.\n",
    "\n",
    "In other words, if a full implementation of Rel-8 requires **1 person-year**, adopting the same “catch-all” strategy for Rel-17 would demand **at least 600 person-years**, with the number of possible test-case combinations exceeding **10¹⁰**.\n",
    "At this scale, purely rule-based systems become **virtually unmaintainable**.\n"
   ]
  },
  {
   "cell_type": "code",
   "execution_count": null,
   "id": "73771413",
   "metadata": {},
   "outputs": [],
   "source": [
    "\n",
    "fig, axs = plt.subplots(1,3, figsize=(15,4))\n",
    "rel = release_df['release']\n",
    "\n",
    "# 1) Single‑release metrics\n",
    "axs[0].plot(rel, release_df['semantic_spread'], marker='o', label='SS')\n",
    "axs[0].plot(rel, release_df['redundancy_index'], marker='o', label='RI')\n",
    "axs[0].plot(rel, release_df['cluster_entropy']/10, marker='o', label='CE/10')  # scaled for same axis\n",
    "axs[0].set_title('SS / RI / CE')\n",
    "axs[0].legend()\n",
    "axs[0].tick_params(axis='x', rotation=45)\n",
    "\n",
    "# 2) Inter‑release metrics\n",
    "axs[1].plot(delta_df['transition'], delta_df['change_magnitude'], marker='o', label='CM')\n",
    "axs[1].plot(delta_df['transition'], delta_df['novelty_density'], marker='o', label='ND')\n",
    "axs[1].set_title('CM / ND')\n",
    "axs[1].legend()\n",
    "axs[1].tick_params(axis='x', rotation=60)\n",
    "\n",
    "# 3) EELI\n",
    "axs[2].plot(rel, release_df['EELI'], marker='o', color='orange')\n",
    "axs[2].set_title('Engineering‑Load Index (log₁₀ EFI)')\n",
    "axs[2].tick_params(axis='x', rotation=45)\n",
    "\n",
    "plt.tight_layout()\n",
    "plt.show()\n"
   ]
  },
  {
   "cell_type": "markdown",
   "id": "9a66acc6",
   "metadata": {},
   "source": [
    "\n",
    "### Constructing a Composite Index: EFI\n",
    "\n",
    "We define the **Engineering-Footprint Index (EFI)** for release *r* as:\n",
    "\n",
    "$$\n",
    "\\text{EFI}_r = S_r \\cdot D_r \\cdot (1 + V_r)\n",
    "$$\n",
    "\n",
    "Where:\n",
    "\n",
    "* $S_r$: **Scale** – the overall volume of features to implement\n",
    "* $D_r$: **Diversity** – the degree of heterogeneity across functionalities\n",
    "* $V_r$: **Velocity** – the relative rate of newly added features\n",
    "\n",
    "This is a **linear multiplicative** model that combines the three dimensions of engineering complexity.\n",
    "\n",
    "---\n",
    "\n",
    "### Exponential Trend:\n",
    "\n",
    "* In practice, $S_r$ tends to **increase linearly** over time.\n",
    "* $D_r$ rises slowly at first and then plateaus, but **remains >1**.\n",
    "* $V_r$ **spikes sharply** before and after each major generational shift (e.g., 4G → 5G).\n",
    "\n",
    "When combined, these factors produce an **approximately exponential or stepwise escalation** in EFI, which from an engineering perspective explains the **explosion in the testing matrix**.\n",
    "\n",
    "---\n",
    "\n",
    "### Logarithmic Visualization:\n",
    "\n",
    "To aid interpretation, we define the **Engineering Effort Log-Index (EELI)** as the base-10 logarithm of EFI:\n",
    "\n",
    "$$\n",
    "\\text{EELI}_r = \\log_{10}(\\text{EFI}_r)\n",
    "$$\n",
    "\n",
    "This transformation makes it easier to visualize and compare engineering burdens across different 3GPP releases."
   ]
  },
  {
   "cell_type": "code",
   "execution_count": null,
   "id": "2fc9f6a4",
   "metadata": {},
   "outputs": [],
   "source": [
    "\n",
    "max_S = release_df['sentences'].max()\n",
    "max_D = release_df['D'].max()\n",
    "max_V = release_df['V'].max()\n",
    "\n",
    "stack_df = pd.DataFrame({\n",
    "    'Release'   : release_df['release'],\n",
    "    'Size'      : release_df['sentences']/max_S,\n",
    "    'Diversity' : release_df['D']/max_D,\n",
    "    'Velocity'  : release_df['V']/max_V\n",
    "})\n",
    "\n",
    "bottom = np.zeros(len(stack_df))\n",
    "plt.figure(figsize=(10,5))\n",
    "for col, color in zip(['Size','Diversity','Velocity'], ['#66c2a5','#8da0cb','#fc8d62']):\n",
    "    plt.bar(stack_df['Release'], stack_df[col], bottom=bottom, label=col, color=color)\n",
    "    bottom += stack_df[col]\n",
    "\n",
    "plt.title('Normalised Contribution to Engineering Load')\n",
    "plt.xticks(rotation=45, ha='right')\n",
    "plt.legend(); plt.tight_layout(); plt.show()\n"
   ]
  },
  {
   "cell_type": "markdown",
   "id": "c715f8e1",
   "metadata": {},
   "source": [
    "## 3. Discussion  \n",
    "\n",
    "* **SS, RI, CE** – together outline the semantic “area” to be covered by an implementation. Peaks in CE (Rel‑17) imply the broadest, most balanced feature set.  \n",
    "* **CM & ND** – flag paradigm shifts: Rel‑17→18 and the early Rel‑19 drafts show the largest centroid moves and novelty bursts.  \n",
    "* **EELI** – takes Size × Diversity × (1 + Velocity) and reveals an almost exponential climb from LTE to 5G‑Advanced.  \n",
    "\n",
    "> **Take‑away** – If Rel‑8 required 1 engineering unit, Rel‑17 needs ~300–600 units (two orders of magnitude more), hence a monolithic rule‑based stack becomes economically unviable. Modular, policy‑driven architectures are mandatory beyond Rel‑18.  \n"
   ]
  },
  {
   "cell_type": "markdown",
   "id": "7eff6d1c",
   "metadata": {},
   "source": [
    "---  \n",
    "### 4. Conclusions & Next Steps  \n",
    "\n",
    "1. **Quantified burden** – EELI offers a single handle to talk about engineering load with non‑technical stakeholders.  \n",
    "2. **Early warnings** – spikes in CM/ND can be automated to trigger design reviews before huge refactors accrue.  \n",
    "3. **Future work** – link EELI to *actual* person‑months in historical projects to calibrate the index; apply the pipeline to other standard bodies (IETF, IEEE 802) for cross‑domain comparison.  \n"
   ]
  }
 ],
 "metadata": {
  "kernelspec": {
   "display_name": "3gpp_compexity",
   "language": "python",
   "name": "python3"
  },
  "language_info": {
   "name": "python",
   "version": "3.11.12"
  }
 },
 "nbformat": 4,
 "nbformat_minor": 5
}
